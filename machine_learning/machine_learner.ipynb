{
 "cells": [
  {
   "cell_type": "code",
   "execution_count": 1,
   "metadata": {},
   "outputs": [],
   "source": [
    "import pandas as pd"
   ]
  },
  {
   "cell_type": "code",
   "execution_count": 2,
   "metadata": {},
   "outputs": [],
   "source": [
    "contributions = pd.read_csv('individual_contributions.csv', sep='|', header=None,\n",
    "                            usecols=[0, 3, 10, 13, 14, 20],\n",
    "                            names=['CMTE_ID',\n",
    "                                  'TRANSACTION_PGI',\n",
    "                                  'ZIP_CODE',\n",
    "                                  'TRANSACTION_DT',\n",
    "                                  'TRANSACTION_AMT',\n",
    "                                  'SUB_ID'],\n",
    "                            dtype={\"CMTE_ID\": str, \n",
    "                                   \"TRANSACTION_PGI\": str,\n",
    "                                   \"ZIP_CODE\": str,\n",
    "                                  'TRANSACTION_DT': str,\n",
    "                                   \"TRANSACTION_AMT\": float, \n",
    "                                   \"SUB_ID\": str\n",
    "                                  }\n",
    "                           )"
   ]
  },
  {
   "cell_type": "code",
   "execution_count": 3,
   "metadata": {},
   "outputs": [],
   "source": [
    "contributions['zipcode_5'] = contributions['ZIP_CODE'].str[0:5]\n",
    "contributions['ZIP_CODE'] = pd.to_numeric(contributions['ZIP_CODE'], errors='coerce')"
   ]
  },
  {
   "cell_type": "code",
   "execution_count": 4,
   "metadata": {},
   "outputs": [],
   "source": [
    "contributions.dropna(subset=['CMTE_ID', 'ZIP_CODE','TRANSACTION_AMT','SUB_ID','zipcode_5'],inplace=True)\n",
    "contributions = contributions.loc[contributions['TRANSACTION_AMT'] > 0]"
   ]
  },
  {
   "cell_type": "code",
   "execution_count": 5,
   "metadata": {},
   "outputs": [
    {
     "data": {
      "text/html": [
       "<div>\n",
       "<style scoped>\n",
       "    .dataframe tbody tr th:only-of-type {\n",
       "        vertical-align: middle;\n",
       "    }\n",
       "\n",
       "    .dataframe tbody tr th {\n",
       "        vertical-align: top;\n",
       "    }\n",
       "\n",
       "    .dataframe thead th {\n",
       "        text-align: right;\n",
       "    }\n",
       "</style>\n",
       "<table border=\"1\" class=\"dataframe\">\n",
       "  <thead>\n",
       "    <tr style=\"text-align: right;\">\n",
       "      <th></th>\n",
       "      <th>CMTE_ID</th>\n",
       "      <th>TRANSACTION_PGI</th>\n",
       "      <th>ZIP_CODE</th>\n",
       "      <th>TRANSACTION_DT</th>\n",
       "      <th>TRANSACTION_AMT</th>\n",
       "      <th>SUB_ID</th>\n",
       "      <th>zipcode_5</th>\n",
       "    </tr>\n",
       "  </thead>\n",
       "  <tbody>\n",
       "    <tr>\n",
       "      <th>0</th>\n",
       "      <td>C00088591</td>\n",
       "      <td>P</td>\n",
       "      <td>220424511.0</td>\n",
       "      <td>02132015</td>\n",
       "      <td>500.0</td>\n",
       "      <td>4032020151240885624</td>\n",
       "      <td>22042</td>\n",
       "    </tr>\n",
       "    <tr>\n",
       "      <th>1</th>\n",
       "      <td>C00088591</td>\n",
       "      <td>P</td>\n",
       "      <td>220424511.0</td>\n",
       "      <td>02132015</td>\n",
       "      <td>200.0</td>\n",
       "      <td>4032020151240885819</td>\n",
       "      <td>22042</td>\n",
       "    </tr>\n",
       "    <tr>\n",
       "      <th>2</th>\n",
       "      <td>C00088591</td>\n",
       "      <td>P</td>\n",
       "      <td>220424511.0</td>\n",
       "      <td>02272015</td>\n",
       "      <td>200.0</td>\n",
       "      <td>4032020151240885820</td>\n",
       "      <td>22042</td>\n",
       "    </tr>\n",
       "    <tr>\n",
       "      <th>3</th>\n",
       "      <td>C00088591</td>\n",
       "      <td>P</td>\n",
       "      <td>220424511.0</td>\n",
       "      <td>02132015</td>\n",
       "      <td>200.0</td>\n",
       "      <td>4032020151240885683</td>\n",
       "      <td>22042</td>\n",
       "    </tr>\n",
       "    <tr>\n",
       "      <th>4</th>\n",
       "      <td>C00088591</td>\n",
       "      <td>P</td>\n",
       "      <td>220424511.0</td>\n",
       "      <td>02272015</td>\n",
       "      <td>200.0</td>\n",
       "      <td>4032020151240885684</td>\n",
       "      <td>22042</td>\n",
       "    </tr>\n",
       "  </tbody>\n",
       "</table>\n",
       "</div>"
      ],
      "text/plain": [
       "     CMTE_ID TRANSACTION_PGI     ZIP_CODE TRANSACTION_DT  TRANSACTION_AMT  \\\n",
       "0  C00088591               P  220424511.0       02132015            500.0   \n",
       "1  C00088591               P  220424511.0       02132015            200.0   \n",
       "2  C00088591               P  220424511.0       02272015            200.0   \n",
       "3  C00088591               P  220424511.0       02132015            200.0   \n",
       "4  C00088591               P  220424511.0       02272015            200.0   \n",
       "\n",
       "                SUB_ID zipcode_5  \n",
       "0  4032020151240885624     22042  \n",
       "1  4032020151240885819     22042  \n",
       "2  4032020151240885820     22042  \n",
       "3  4032020151240885683     22042  \n",
       "4  4032020151240885684     22042  "
      ]
     },
     "execution_count": 5,
     "metadata": {},
     "output_type": "execute_result"
    }
   ],
   "source": [
    "contributions.head()"
   ]
  },
  {
   "cell_type": "code",
   "execution_count": 6,
   "metadata": {},
   "outputs": [],
   "source": [
    "contributions.to_csv('contributions.csv', index=False)"
   ]
  },
  {
   "cell_type": "code",
   "execution_count": 7,
   "metadata": {
    "scrolled": true
   },
   "outputs": [],
   "source": [
    "grouped = contributions.groupby(['zipcode_5'])"
   ]
  },
  {
   "cell_type": "code",
   "execution_count": 8,
   "metadata": {
    "scrolled": true
   },
   "outputs": [],
   "source": [
    "zip_summary_df = pd.DataFrame()\n",
    "zip_summary_df['donations_sum'] = grouped['TRANSACTION_AMT'].sum()\n",
    "zip_summary_df['donations_median'] = grouped['TRANSACTION_AMT'].median()\n",
    "zip_summary_df['donations_count'] = grouped['SUB_ID'].count()\n",
    "zip_summary_df.reset_index(inplace=True)"
   ]
  },
  {
   "cell_type": "code",
   "execution_count": 9,
   "metadata": {},
   "outputs": [
    {
     "data": {
      "text/html": [
       "<div>\n",
       "<style scoped>\n",
       "    .dataframe tbody tr th:only-of-type {\n",
       "        vertical-align: middle;\n",
       "    }\n",
       "\n",
       "    .dataframe tbody tr th {\n",
       "        vertical-align: top;\n",
       "    }\n",
       "\n",
       "    .dataframe thead th {\n",
       "        text-align: right;\n",
       "    }\n",
       "</style>\n",
       "<table border=\"1\" class=\"dataframe\">\n",
       "  <thead>\n",
       "    <tr style=\"text-align: right;\">\n",
       "      <th></th>\n",
       "      <th>zipcode_5</th>\n",
       "      <th>donations_sum</th>\n",
       "      <th>donations_median</th>\n",
       "      <th>donations_count</th>\n",
       "    </tr>\n",
       "  </thead>\n",
       "  <tbody>\n",
       "    <tr>\n",
       "      <th>0</th>\n",
       "      <td>\\t6410</td>\n",
       "      <td>798.0</td>\n",
       "      <td>42.0</td>\n",
       "      <td>19</td>\n",
       "    </tr>\n",
       "    <tr>\n",
       "      <th>1</th>\n",
       "      <td>\\t8400</td>\n",
       "      <td>15.0</td>\n",
       "      <td>15.0</td>\n",
       "      <td>1</td>\n",
       "    </tr>\n",
       "    <tr>\n",
       "      <th>2</th>\n",
       "      <td>3102</td>\n",
       "      <td>400.0</td>\n",
       "      <td>100.0</td>\n",
       "      <td>4</td>\n",
       "    </tr>\n",
       "    <tr>\n",
       "      <th>3</th>\n",
       "      <td>6410</td>\n",
       "      <td>4388.0</td>\n",
       "      <td>100.0</td>\n",
       "      <td>32</td>\n",
       "    </tr>\n",
       "    <tr>\n",
       "      <th>4</th>\n",
       "      <td>8411</td>\n",
       "      <td>1020.0</td>\n",
       "      <td>42.5</td>\n",
       "      <td>24</td>\n",
       "    </tr>\n",
       "  </tbody>\n",
       "</table>\n",
       "</div>"
      ],
      "text/plain": [
       "  zipcode_5  donations_sum  donations_median  donations_count\n",
       "0    \\t6410          798.0              42.0               19\n",
       "1    \\t8400           15.0              15.0                1\n",
       "2      3102          400.0             100.0                4\n",
       "3      6410         4388.0             100.0               32\n",
       "4      8411         1020.0              42.5               24"
      ]
     },
     "execution_count": 9,
     "metadata": {},
     "output_type": "execute_result"
    }
   ],
   "source": [
    "zip_summary_df.head()"
   ]
  },
  {
   "cell_type": "code",
   "execution_count": 10,
   "metadata": {},
   "outputs": [
    {
     "data": {
      "text/plain": [
       "zipcode_5            object\n",
       "donations_sum       float64\n",
       "donations_median    float64\n",
       "donations_count       int64\n",
       "dtype: object"
      ]
     },
     "execution_count": 10,
     "metadata": {},
     "output_type": "execute_result"
    }
   ],
   "source": [
    "zip_summary_df.dtypes"
   ]
  },
  {
   "cell_type": "code",
   "execution_count": 11,
   "metadata": {},
   "outputs": [],
   "source": [
    "zip_summary_df.to_csv('zipcode_donations.csv', index=False)"
   ]
  },
  {
   "cell_type": "code",
   "execution_count": 12,
   "metadata": {},
   "outputs": [
    {
     "name": "stderr",
     "output_type": "stream",
     "text": [
      "C:\\Users\\alexa\\Anaconda3\\envs\\PythonData\\lib\\site-packages\\IPython\\core\\interactiveshell.py:3020: DtypeWarning: Columns (1,3,4,5,6,7,8,9,10,11,12,13,14,15,16,17,18,19,20,22,23,24,25,26,27,28,29,30,31,32,33,34,35,36,38,39,40,41,42,43,44,45,46,47,48,49,50,51,52,53,54,55,56,57,58,59,60,61,62,63,64,65,66,67,68,69,70,71,72,73,76,78,80,82,84,86,87,88,89,90,91,92,93,94,95,96,97,101,107,108,109,110,111,112,113,114,115,116,117,118,119,120,121,122,123,124,125,126,127,128,129,130,150,151,152,153,154,155,156,157,158,159,160,161,162,165,166,167,168,169,170,171,172,173,174,175,176,177,178,179,180,181,182,183,184,185,186,187,188,189,190,191,192,193,194,195,196,197,198,199,200,201,202,203) have mixed types. Specify dtype option on import or set low_memory=False.\n",
      "  interactivity=interactivity, compiler=compiler, result=result)\n"
     ]
    },
    {
     "ename": "NameError",
     "evalue": "name 'header' is not defined",
     "output_type": "error",
     "traceback": [
      "\u001b[1;31m---------------------------------------------------------------------------\u001b[0m",
      "\u001b[1;31mNameError\u001b[0m                                 Traceback (most recent call last)",
      "\u001b[1;32m<ipython-input-12-7cb480582dae>\u001b[0m in \u001b[0;36m<module>\u001b[1;34m\u001b[0m\n\u001b[0;32m      1\u001b[0m \u001b[0mcensus_df\u001b[0m \u001b[1;33m=\u001b[0m \u001b[0mpd\u001b[0m\u001b[1;33m.\u001b[0m\u001b[0mread_csv\u001b[0m\u001b[1;33m(\u001b[0m\u001b[1;34m'census_data_2016.csv'\u001b[0m\u001b[1;33m)\u001b[0m\u001b[1;33m\u001b[0m\u001b[1;33m\u001b[0m\u001b[0m\n\u001b[0;32m      2\u001b[0m \u001b[0mcensus_df\u001b[0m \u001b[1;33m=\u001b[0m \u001b[0mcensus_df\u001b[0m\u001b[1;33m[\u001b[0m\u001b[1;36m1\u001b[0m\u001b[1;33m:\u001b[0m\u001b[1;33m]\u001b[0m\u001b[1;33m\u001b[0m\u001b[1;33m\u001b[0m\u001b[0m\n\u001b[1;32m----> 3\u001b[1;33m \u001b[0mcensus_df\u001b[0m\u001b[1;33m.\u001b[0m\u001b[0mcolumns\u001b[0m \u001b[1;33m=\u001b[0m \u001b[0mheader\u001b[0m\u001b[1;33m\u001b[0m\u001b[1;33m\u001b[0m\u001b[0m\n\u001b[0m\u001b[0;32m      4\u001b[0m \u001b[0mcensus_df\u001b[0m\u001b[1;33m.\u001b[0m\u001b[0mhead\u001b[0m\u001b[1;33m(\u001b[0m\u001b[1;33m)\u001b[0m\u001b[1;33m\u001b[0m\u001b[1;33m\u001b[0m\u001b[0m\n\u001b[0;32m      5\u001b[0m \u001b[1;31m#https://www.census.gov/glossary/#term_Employed\u001b[0m\u001b[1;33m\u001b[0m\u001b[1;33m\u001b[0m\u001b[1;33m\u001b[0m\u001b[0m\n",
      "\u001b[1;31mNameError\u001b[0m: name 'header' is not defined"
     ]
    }
   ],
   "source": [
    "census_df = pd.read_csv('census_data_2016.csv')\n",
    "census_df = census_df[1:]\n",
    "census_df.columns = header\n",
    "census_df.head()\n",
    "#https://www.census.gov/glossary/#term_Employed"
   ]
  },
  {
   "cell_type": "code",
   "execution_count": null,
   "metadata": {},
   "outputs": [],
   "source": [
    "for column in header[1:]:\n",
    "    census_df[column] = pd.to_numeric(census_df[column], errors='coerce')\n",
    "census_df.dtypes"
   ]
  },
  {
   "cell_type": "code",
   "execution_count": null,
   "metadata": {},
   "outputs": [],
   "source": [
    "census_summary_df = pd.DataFrame()\n",
    "census_summary_df['zipcode_5'] = census_df['zipcode'].str[9:14]\n",
    "census_summary_df['pop_total'] = census_df['pop_total']\n",
    "census_summary_df['unemployment_rate'] = census_df['pop_unemployed'] / (census_df['pop_unemployed'] + census_df['pop_employed'])\n",
    "census_summary_df['median_household_income'] = census_df['median_household_income']\n",
    "census_summary_df['healthcare_rate'] = census_df['pop_with_healthcare'] / census_df['pop_total']\n",
    "census_summary_df['hs_graduation_rate'] = census_df['25+_HS'] / census_df['edu_25+_total']\n",
    "census_summary_df['assoc_degree_rate'] = census_df['edu_25+_assoc'] / census_df['edu_25+_total']\n",
    "census_summary_df['bachelor_degree_rate'] = census_df['edu_25+_bachelor'] / census_df['edu_25+_total']\n",
    "census_summary_df['grad_degree_rate'] = census_df['edu_25+_grad'] / census_df['edu_25+_total']\n",
    "census_summary_df.head()"
   ]
  },
  {
   "cell_type": "code",
   "execution_count": null,
   "metadata": {},
   "outputs": [],
   "source": [
    "census_summary_df.dtypes"
   ]
  },
  {
   "cell_type": "code",
   "execution_count": null,
   "metadata": {},
   "outputs": [],
   "source": [
    "combined_summary_df = census_summary_df.merge(zip_summary_df, how='inner')"
   ]
  },
  {
   "cell_type": "code",
   "execution_count": null,
   "metadata": {},
   "outputs": [],
   "source": [
    "combined_summary_df['donations_sum_quartile'] = pd.qcut(combined_summary_df['donations_sum'], q=[0, .25, .5, .75, 1.], labels=[4, 3, 2, 1])\n",
    "combined_summary_df['donations_median_quartile'] = pd.qcut(combined_summary_df['donations_median'], q=[0, .25, .5, .75, 1.], labels=[4, 3, 2, 1])"
   ]
  },
  {
   "cell_type": "code",
   "execution_count": null,
   "metadata": {},
   "outputs": [],
   "source": [
    "combined_summary_df.sort_values(by=['donations_sum'])"
   ]
  },
  {
   "cell_type": "code",
   "execution_count": null,
   "metadata": {},
   "outputs": [],
   "source": [
    "combined_summary_df.to_csv('cleaned_combined_zipcodes.csv', index=False)"
   ]
  },
  {
   "cell_type": "code",
   "execution_count": 59,
   "metadata": {},
   "outputs": [],
   "source": [
    "combined_summary_df = pd.read_csv('cleaned_combined_zipcodes.csv')"
   ]
  },
  {
   "cell_type": "code",
   "execution_count": 60,
   "metadata": {},
   "outputs": [],
   "source": [
    "from numpy.random import seed\n",
    "seed(1)\n",
    "import numpy as np\n",
    "import tensorflow as tf\n",
    "from tensorflow.keras.models import Sequential\n",
    "from tensorflow.keras.utils import to_categorical\n",
    "from tensorflow.keras.layers import Dense\n",
    "from sklearn.model_selection import train_test_split"
   ]
  },
  {
   "cell_type": "code",
   "execution_count": 75,
   "metadata": {},
   "outputs": [
    {
     "name": "stdout",
     "output_type": "stream",
     "text": [
      "(1160, 8) (1160,)\n"
     ]
    }
   ],
   "source": [
    "combined_summary_df.dropna(inplace=True)\n",
    "X = combined_summary_df[['pop_total', 'unemployment_rate', 'median_household_income',\n",
    "                         'healthcare_rate', 'hs_graduation_rate', 'assoc_degree_rate', \n",
    "                         'bachelor_degree_rate', 'grad_degree_rate']]\n",
    "y = combined_summary_df['donations_median_quartile']\n",
    "print(X.shape, y.shape)"
   ]
  },
  {
   "cell_type": "code",
   "execution_count": 76,
   "metadata": {},
   "outputs": [],
   "source": [
    "X_train, X_test, y_train, y_test = train_test_split(\n",
    "    X, y, random_state=1, stratify=y)"
   ]
  },
  {
   "cell_type": "code",
   "execution_count": 77,
   "metadata": {},
   "outputs": [],
   "source": [
    "y_train = to_categorical(y_train)\n",
    "y_test = to_categorical(y_test)"
   ]
  },
  {
   "cell_type": "code",
   "execution_count": 78,
   "metadata": {},
   "outputs": [
    {
     "data": {
      "text/plain": [
       "array([[0., 1., 0., 0., 0.],\n",
       "       [0., 1., 0., 0., 0.],\n",
       "       [0., 0., 0., 0., 1.],\n",
       "       ...,\n",
       "       [0., 0., 1., 0., 0.],\n",
       "       [0., 0., 1., 0., 0.],\n",
       "       [0., 1., 0., 0., 0.]], dtype=float32)"
      ]
     },
     "execution_count": 78,
     "metadata": {},
     "output_type": "execute_result"
    }
   ],
   "source": [
    "y_test"
   ]
  },
  {
   "cell_type": "code",
   "execution_count": 79,
   "metadata": {},
   "outputs": [],
   "source": [
    "# Create an empty sequential model\n",
    "model = Sequential()"
   ]
  },
  {
   "cell_type": "code",
   "execution_count": 80,
   "metadata": {},
   "outputs": [],
   "source": [
    "# Add the first layer where the input dimensions are the 561 columns of the training data\n",
    "model.add(Dense(50, activation='relu', input_dim=X_train.shape[1]))"
   ]
  },
  {
   "cell_type": "code",
   "execution_count": 81,
   "metadata": {},
   "outputs": [],
   "source": [
    "# Add a second hidden layer\n",
    "model.add(Dense(50, activation='relu'))"
   ]
  },
  {
   "cell_type": "code",
   "execution_count": 82,
   "metadata": {},
   "outputs": [
    {
     "data": {
      "text/plain": [
       "(870, 5)"
      ]
     },
     "execution_count": 82,
     "metadata": {},
     "output_type": "execute_result"
    }
   ],
   "source": [
    "# The output layer has 5 columns that are one-hot encoded\n",
    "y_train.shape"
   ]
  },
  {
   "cell_type": "code",
   "execution_count": 83,
   "metadata": {},
   "outputs": [],
   "source": [
    "# Add output layer\n",
    "model.add(Dense(y_train.shape[1], activation=\"softmax\"))"
   ]
  },
  {
   "cell_type": "code",
   "execution_count": 84,
   "metadata": {},
   "outputs": [],
   "source": [
    "# Compile the model using categorical_crossentropy for the loss function, the adam optimizer,\n",
    "# and add accuracy to the training metrics\n",
    "model.compile(loss=\"categorical_crossentropy\",\n",
    "              optimizer=\"adam\", metrics=['accuracy'])"
   ]
  },
  {
   "cell_type": "code",
   "execution_count": 85,
   "metadata": {},
   "outputs": [],
   "source": [
    "from sklearn.preprocessing import StandardScaler\n",
    "X_scaler = StandardScaler().fit(X_train)\n",
    "\n",
    "X_train_scaled = X_scaler.transform(X_train)\n",
    "X_test_scaled = X_scaler.transform(X_test)"
   ]
  },
  {
   "cell_type": "code",
   "execution_count": 86,
   "metadata": {},
   "outputs": [
    {
     "data": {
      "text/plain": [
       "array([[0., 0., 0., 1., 0.],\n",
       "       [0., 0., 0., 1., 0.],\n",
       "       [0., 1., 0., 0., 0.],\n",
       "       ...,\n",
       "       [0., 1., 0., 0., 0.],\n",
       "       [0., 1., 0., 0., 0.],\n",
       "       [0., 1., 0., 0., 0.]], dtype=float32)"
      ]
     },
     "execution_count": 86,
     "metadata": {},
     "output_type": "execute_result"
    }
   ],
   "source": [
    "y_train"
   ]
  },
  {
   "cell_type": "code",
   "execution_count": 87,
   "metadata": {},
   "outputs": [
    {
     "name": "stdout",
     "output_type": "stream",
     "text": [
      "Epoch 1/100\n",
      " - 1s - loss: 1.5474 - acc: 0.2770\n",
      "Epoch 2/100\n",
      " - 0s - loss: 1.4068 - acc: 0.3494\n",
      "Epoch 3/100\n",
      " - 0s - loss: 1.3508 - acc: 0.3494\n",
      "Epoch 4/100\n",
      " - 0s - loss: 1.3156 - acc: 0.3736\n",
      "Epoch 5/100\n",
      " - 0s - loss: 1.2951 - acc: 0.3908\n",
      "Epoch 6/100\n",
      " - 0s - loss: 1.2804 - acc: 0.3920\n",
      "Epoch 7/100\n",
      " - 0s - loss: 1.2669 - acc: 0.4069\n",
      "Epoch 8/100\n",
      " - 0s - loss: 1.2570 - acc: 0.3966\n",
      "Epoch 9/100\n",
      " - 0s - loss: 1.2473 - acc: 0.4195\n",
      "Epoch 10/100\n",
      " - 0s - loss: 1.2440 - acc: 0.4092\n",
      "Epoch 11/100\n",
      " - 0s - loss: 1.2403 - acc: 0.3989\n",
      "Epoch 12/100\n",
      " - 0s - loss: 1.2291 - acc: 0.4264\n",
      "Epoch 13/100\n",
      " - 0s - loss: 1.2240 - acc: 0.4368\n",
      "Epoch 14/100\n",
      " - 0s - loss: 1.2215 - acc: 0.4276\n",
      "Epoch 15/100\n",
      " - 0s - loss: 1.2199 - acc: 0.4253\n",
      "Epoch 16/100\n",
      " - 0s - loss: 1.2092 - acc: 0.4425\n",
      "Epoch 17/100\n",
      " - 0s - loss: 1.2051 - acc: 0.4437\n",
      "Epoch 18/100\n",
      " - 0s - loss: 1.2016 - acc: 0.4356\n",
      "Epoch 19/100\n",
      " - 0s - loss: 1.1966 - acc: 0.4310\n",
      "Epoch 20/100\n",
      " - 0s - loss: 1.1980 - acc: 0.4414\n",
      "Epoch 21/100\n",
      " - 0s - loss: 1.1908 - acc: 0.4517\n",
      "Epoch 22/100\n",
      " - 0s - loss: 1.1898 - acc: 0.4517\n",
      "Epoch 23/100\n",
      " - 0s - loss: 1.1811 - acc: 0.4540\n",
      "Epoch 24/100\n",
      " - 0s - loss: 1.1801 - acc: 0.4391\n",
      "Epoch 25/100\n",
      " - 0s - loss: 1.1787 - acc: 0.4598\n",
      "Epoch 26/100\n",
      " - 0s - loss: 1.1761 - acc: 0.4586\n",
      "Epoch 27/100\n",
      " - 0s - loss: 1.1715 - acc: 0.4632\n",
      "Epoch 28/100\n",
      " - 0s - loss: 1.1660 - acc: 0.4598\n",
      "Epoch 29/100\n",
      " - 0s - loss: 1.1629 - acc: 0.4759\n",
      "Epoch 30/100\n",
      " - 0s - loss: 1.1588 - acc: 0.4713\n",
      "Epoch 31/100\n",
      " - 0s - loss: 1.1589 - acc: 0.4609\n",
      "Epoch 32/100\n",
      " - 0s - loss: 1.1524 - acc: 0.4897\n",
      "Epoch 33/100\n",
      " - 0s - loss: 1.1548 - acc: 0.4701\n",
      "Epoch 34/100\n",
      " - 0s - loss: 1.1473 - acc: 0.4805\n",
      "Epoch 35/100\n",
      " - 0s - loss: 1.1427 - acc: 0.4966\n",
      "Epoch 36/100\n",
      " - 0s - loss: 1.1416 - acc: 0.4851\n",
      "Epoch 37/100\n",
      " - 0s - loss: 1.1369 - acc: 0.4759\n",
      "Epoch 38/100\n",
      " - 0s - loss: 1.1356 - acc: 0.4874\n",
      "Epoch 39/100\n",
      " - 0s - loss: 1.1324 - acc: 0.4793\n",
      "Epoch 40/100\n",
      " - 0s - loss: 1.1339 - acc: 0.4747\n",
      "Epoch 41/100\n",
      " - 0s - loss: 1.1246 - acc: 0.4897\n",
      "Epoch 42/100\n",
      " - 0s - loss: 1.1227 - acc: 0.5057\n",
      "Epoch 43/100\n",
      " - 0s - loss: 1.1228 - acc: 0.4920\n",
      "Epoch 44/100\n",
      " - 0s - loss: 1.1262 - acc: 0.4839\n",
      "Epoch 45/100\n",
      " - 0s - loss: 1.1215 - acc: 0.5011\n",
      "Epoch 46/100\n",
      " - 0s - loss: 1.1132 - acc: 0.4908\n",
      "Epoch 47/100\n",
      " - 0s - loss: 1.1123 - acc: 0.4989\n",
      "Epoch 48/100\n",
      " - 0s - loss: 1.1020 - acc: 0.5092\n",
      "Epoch 49/100\n",
      " - 0s - loss: 1.1062 - acc: 0.5069\n",
      "Epoch 50/100\n",
      " - 0s - loss: 1.1031 - acc: 0.5172\n",
      "Epoch 51/100\n",
      " - 0s - loss: 1.1005 - acc: 0.5092\n",
      "Epoch 52/100\n",
      " - 0s - loss: 1.0921 - acc: 0.5161\n",
      "Epoch 53/100\n",
      " - 0s - loss: 1.0890 - acc: 0.5195\n",
      "Epoch 54/100\n",
      " - 0s - loss: 1.0901 - acc: 0.5103\n",
      "Epoch 55/100\n",
      " - 0s - loss: 1.0867 - acc: 0.5264\n",
      "Epoch 56/100\n",
      " - 0s - loss: 1.0856 - acc: 0.5195\n",
      "Epoch 57/100\n",
      " - 0s - loss: 1.0796 - acc: 0.5230\n",
      "Epoch 58/100\n",
      " - 0s - loss: 1.0839 - acc: 0.5241\n",
      "Epoch 59/100\n",
      " - 0s - loss: 1.0742 - acc: 0.5253\n",
      "Epoch 60/100\n",
      " - 0s - loss: 1.0746 - acc: 0.5253\n",
      "Epoch 61/100\n",
      " - 0s - loss: 1.0686 - acc: 0.5345\n",
      "Epoch 62/100\n",
      " - 0s - loss: 1.0673 - acc: 0.5345\n",
      "Epoch 63/100\n",
      " - 0s - loss: 1.0640 - acc: 0.5287\n",
      "Epoch 64/100\n",
      " - 0s - loss: 1.0577 - acc: 0.5345\n",
      "Epoch 65/100\n",
      " - 0s - loss: 1.0615 - acc: 0.5402\n",
      "Epoch 66/100\n",
      " - 0s - loss: 1.0543 - acc: 0.5356\n",
      "Epoch 67/100\n",
      " - 0s - loss: 1.0539 - acc: 0.5414\n",
      "Epoch 68/100\n",
      " - 0s - loss: 1.0557 - acc: 0.5437\n",
      "Epoch 69/100\n",
      " - 0s - loss: 1.0517 - acc: 0.5391\n",
      "Epoch 70/100\n",
      " - 0s - loss: 1.0449 - acc: 0.5471\n",
      "Epoch 71/100\n",
      " - 0s - loss: 1.0407 - acc: 0.5494\n",
      "Epoch 72/100\n",
      " - 0s - loss: 1.0440 - acc: 0.5356\n",
      "Epoch 73/100\n",
      " - 0s - loss: 1.0435 - acc: 0.5448\n",
      "Epoch 74/100\n",
      " - 0s - loss: 1.0353 - acc: 0.5575\n",
      "Epoch 75/100\n",
      " - 0s - loss: 1.0339 - acc: 0.5609\n",
      "Epoch 76/100\n",
      " - 0s - loss: 1.0302 - acc: 0.5494\n",
      "Epoch 77/100\n",
      " - 0s - loss: 1.0252 - acc: 0.5575\n",
      "Epoch 78/100\n",
      " - 0s - loss: 1.0280 - acc: 0.5448\n",
      "Epoch 79/100\n",
      " - 0s - loss: 1.0240 - acc: 0.5563\n",
      "Epoch 80/100\n",
      " - 0s - loss: 1.0154 - acc: 0.5655\n",
      "Epoch 81/100\n",
      " - 0s - loss: 1.0149 - acc: 0.5644\n",
      "Epoch 82/100\n",
      " - 0s - loss: 1.0148 - acc: 0.5552\n",
      "Epoch 83/100\n",
      " - 0s - loss: 1.0119 - acc: 0.5586\n",
      "Epoch 84/100\n",
      " - 0s - loss: 1.0081 - acc: 0.5632\n",
      "Epoch 85/100\n",
      " - 0s - loss: 1.0051 - acc: 0.5678\n",
      "Epoch 86/100\n",
      " - 0s - loss: 1.0071 - acc: 0.5586\n",
      "Epoch 87/100\n",
      " - 0s - loss: 1.0010 - acc: 0.5828\n",
      "Epoch 88/100\n",
      " - 0s - loss: 1.0039 - acc: 0.5736\n",
      "Epoch 89/100\n",
      " - 0s - loss: 0.9935 - acc: 0.5678\n",
      "Epoch 90/100\n",
      " - 0s - loss: 0.9954 - acc: 0.5644\n",
      "Epoch 91/100\n",
      " - 0s - loss: 0.9924 - acc: 0.5805\n",
      "Epoch 92/100\n",
      " - 0s - loss: 0.9953 - acc: 0.5770\n",
      "Epoch 93/100\n",
      " - 0s - loss: 0.9901 - acc: 0.5736\n",
      "Epoch 94/100\n",
      " - 0s - loss: 0.9867 - acc: 0.5678\n",
      "Epoch 95/100\n",
      " - 0s - loss: 0.9840 - acc: 0.5805\n",
      "Epoch 96/100\n",
      " - 0s - loss: 0.9831 - acc: 0.5736\n",
      "Epoch 97/100\n",
      " - 0s - loss: 0.9770 - acc: 0.5874\n",
      "Epoch 98/100\n",
      " - 0s - loss: 0.9913 - acc: 0.5828\n",
      "Epoch 99/100\n",
      " - 0s - loss: 0.9718 - acc: 0.5851\n",
      "Epoch 100/100\n",
      " - 0s - loss: 0.9697 - acc: 0.5816\n"
     ]
    },
    {
     "data": {
      "text/plain": [
       "<tensorflow.python.keras.callbacks.History at 0x227d876d668>"
      ]
     },
     "execution_count": 87,
     "metadata": {},
     "output_type": "execute_result"
    }
   ],
   "source": [
    "# Use the training data to fit (train) the model\n",
    "model.fit(\n",
    "    X_train_scaled,\n",
    "    y_train,\n",
    "    epochs=100,\n",
    "    shuffle=True,\n",
    "    verbose=2\n",
    ")"
   ]
  },
  {
   "cell_type": "code",
   "execution_count": 91,
   "metadata": {},
   "outputs": [
    {
     "name": "stdout",
     "output_type": "stream",
     "text": [
      " - 0s - loss: 1.5272 - acc: 0.3034\n",
      "Loss: 1.527183276209338, Accuracy: 0.30344828963279724\n"
     ]
    }
   ],
   "source": [
    "# Evaluate the model using the training data\n",
    "model_loss, model_accuracy = model.evaluate(X_test_scaled, y_test, verbose=2)\n",
    "print(f\"Loss: {model_loss}, Accuracy: {model_accuracy}\")"
   ]
  },
  {
   "cell_type": "code",
   "execution_count": 89,
   "metadata": {},
   "outputs": [
    {
     "data": {
      "text/plain": [
       "(1, 8)"
      ]
     },
     "execution_count": 89,
     "metadata": {},
     "output_type": "execute_result"
    }
   ],
   "source": [
    "test = np.expand_dims(X_test_scaled[0], axis=0)\n",
    "test.shape"
   ]
  },
  {
   "cell_type": "code",
   "execution_count": 58,
   "metadata": {},
   "outputs": [
    {
     "name": "stdout",
     "output_type": "stream",
     "text": [
      "Predicted class: [1]\n"
     ]
    }
   ],
   "source": [
    "print(f\"Predicted class: {model.predict_classes(test)}\")"
   ]
  }
 ],
 "metadata": {
  "kernelspec": {
   "display_name": "Python 3",
   "language": "python",
   "name": "python3"
  },
  "language_info": {
   "codemirror_mode": {
    "name": "ipython",
    "version": 3
   },
   "file_extension": ".py",
   "mimetype": "text/x-python",
   "name": "python",
   "nbconvert_exporter": "python",
   "pygments_lexer": "ipython3",
   "version": "3.6.7"
  }
 },
 "nbformat": 4,
 "nbformat_minor": 2
}
