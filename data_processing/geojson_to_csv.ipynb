{
 "cells": [
  {
   "cell_type": "code",
   "execution_count": 29,
   "metadata": {},
   "outputs": [],
   "source": [
    "import json\n",
    "\n",
    "with open('il_geojson.json') as json_file:\n",
    "    data = json.load(json_file)"
   ]
  },
  {
   "cell_type": "code",
   "execution_count": 30,
   "metadata": {},
   "outputs": [],
   "source": [
    "import pandas as pd"
   ]
  },
  {
   "cell_type": "code",
   "execution_count": 33,
   "metadata": {},
   "outputs": [],
   "source": [
    "zipcodes = []\n",
    "geometry = []\n",
    "for feature in data['features']:\n",
    "    zipcodes.append(feature['properties']['ZCTA5CE10'])\n",
    "    geometry.append(str(feature['geometry']))"
   ]
  },
  {
   "cell_type": "code",
   "execution_count": 34,
   "metadata": {},
   "outputs": [
    {
     "data": {
      "text/html": [
       "<div>\n",
       "<style scoped>\n",
       "    .dataframe tbody tr th:only-of-type {\n",
       "        vertical-align: middle;\n",
       "    }\n",
       "\n",
       "    .dataframe tbody tr th {\n",
       "        vertical-align: top;\n",
       "    }\n",
       "\n",
       "    .dataframe thead th {\n",
       "        text-align: right;\n",
       "    }\n",
       "</style>\n",
       "<table border=\"1\" class=\"dataframe\">\n",
       "  <thead>\n",
       "    <tr style=\"text-align: right;\">\n",
       "      <th></th>\n",
       "      <th>zipcode</th>\n",
       "      <th>geometry</th>\n",
       "    </tr>\n",
       "  </thead>\n",
       "  <tbody>\n",
       "    <tr>\n",
       "      <th>0</th>\n",
       "      <td>62359</td>\n",
       "      <td>{'type': 'Polygon', 'coordinates': [[[-91.1828...</td>\n",
       "    </tr>\n",
       "    <tr>\n",
       "      <th>1</th>\n",
       "      <td>62376</td>\n",
       "      <td>{'type': 'Polygon', 'coordinates': [[[-91.3774...</td>\n",
       "    </tr>\n",
       "    <tr>\n",
       "      <th>2</th>\n",
       "      <td>62312</td>\n",
       "      <td>{'type': 'Polygon', 'coordinates': [[[-90.9911...</td>\n",
       "    </tr>\n",
       "    <tr>\n",
       "      <th>3</th>\n",
       "      <td>62365</td>\n",
       "      <td>{'type': 'Polygon', 'coordinates': [[[-91.2421...</td>\n",
       "    </tr>\n",
       "    <tr>\n",
       "      <th>4</th>\n",
       "      <td>62246</td>\n",
       "      <td>{'type': 'Polygon', 'coordinates': [[[-89.4420...</td>\n",
       "    </tr>\n",
       "  </tbody>\n",
       "</table>\n",
       "</div>"
      ],
      "text/plain": [
       "  zipcode                                           geometry\n",
       "0   62359  {'type': 'Polygon', 'coordinates': [[[-91.1828...\n",
       "1   62376  {'type': 'Polygon', 'coordinates': [[[-91.3774...\n",
       "2   62312  {'type': 'Polygon', 'coordinates': [[[-90.9911...\n",
       "3   62365  {'type': 'Polygon', 'coordinates': [[[-91.2421...\n",
       "4   62246  {'type': 'Polygon', 'coordinates': [[[-89.4420..."
      ]
     },
     "execution_count": 34,
     "metadata": {},
     "output_type": "execute_result"
    }
   ],
   "source": [
    "zip_geojson = pd.DataFrame()\n",
    "zip_geojson['zipcode'] = zipcodes\n",
    "zip_geojson['geometry'] = geometry\n",
    "zip_geojson.head()"
   ]
  },
  {
   "cell_type": "code",
   "execution_count": 35,
   "metadata": {},
   "outputs": [],
   "source": [
    "zip_geojson['update'] = 'UPDATE zipcode_donations(geometry) VALUES (\"'"
   ]
  },
  {
   "cell_type": "code",
   "execution_count": 36,
   "metadata": {},
   "outputs": [],
   "source": [
    "zip_geojson['mid'] = '\") WHERE zipcode_5 = \"'"
   ]
  },
  {
   "cell_type": "code",
   "execution_count": 37,
   "metadata": {},
   "outputs": [],
   "source": [
    "zip_geojson['end'] = '\");'"
   ]
  },
  {
   "cell_type": "code",
   "execution_count": 45,
   "metadata": {},
   "outputs": [
    {
     "data": {
      "text/html": [
       "<div>\n",
       "<style scoped>\n",
       "    .dataframe tbody tr th:only-of-type {\n",
       "        vertical-align: middle;\n",
       "    }\n",
       "\n",
       "    .dataframe tbody tr th {\n",
       "        vertical-align: top;\n",
       "    }\n",
       "\n",
       "    .dataframe thead th {\n",
       "        text-align: right;\n",
       "    }\n",
       "</style>\n",
       "<table border=\"1\" class=\"dataframe\">\n",
       "  <thead>\n",
       "    <tr style=\"text-align: right;\">\n",
       "      <th></th>\n",
       "      <th>zipcode</th>\n",
       "      <th>geometry</th>\n",
       "      <th>update</th>\n",
       "      <th>mid</th>\n",
       "      <th>end</th>\n",
       "      <th>statement</th>\n",
       "    </tr>\n",
       "  </thead>\n",
       "  <tbody>\n",
       "    <tr>\n",
       "      <th>0</th>\n",
       "      <td>62359</td>\n",
       "      <td>{'type': 'Polygon', 'coordinates': [[[-91.1828...</td>\n",
       "      <td>UPDATE zipcode_donations(geometry) VALUES (\"</td>\n",
       "      <td>\") WHERE zipcode_5 = \"</td>\n",
       "      <td>\");</td>\n",
       "      <td>UPDATE zipcode_donations(geometry) VALUES (\"{'...</td>\n",
       "    </tr>\n",
       "    <tr>\n",
       "      <th>1</th>\n",
       "      <td>62376</td>\n",
       "      <td>{'type': 'Polygon', 'coordinates': [[[-91.3774...</td>\n",
       "      <td>UPDATE zipcode_donations(geometry) VALUES (\"</td>\n",
       "      <td>\") WHERE zipcode_5 = \"</td>\n",
       "      <td>\");</td>\n",
       "      <td>UPDATE zipcode_donations(geometry) VALUES (\"{'...</td>\n",
       "    </tr>\n",
       "    <tr>\n",
       "      <th>2</th>\n",
       "      <td>62312</td>\n",
       "      <td>{'type': 'Polygon', 'coordinates': [[[-90.9911...</td>\n",
       "      <td>UPDATE zipcode_donations(geometry) VALUES (\"</td>\n",
       "      <td>\") WHERE zipcode_5 = \"</td>\n",
       "      <td>\");</td>\n",
       "      <td>UPDATE zipcode_donations(geometry) VALUES (\"{'...</td>\n",
       "    </tr>\n",
       "    <tr>\n",
       "      <th>3</th>\n",
       "      <td>62365</td>\n",
       "      <td>{'type': 'Polygon', 'coordinates': [[[-91.2421...</td>\n",
       "      <td>UPDATE zipcode_donations(geometry) VALUES (\"</td>\n",
       "      <td>\") WHERE zipcode_5 = \"</td>\n",
       "      <td>\");</td>\n",
       "      <td>UPDATE zipcode_donations(geometry) VALUES (\"{'...</td>\n",
       "    </tr>\n",
       "    <tr>\n",
       "      <th>4</th>\n",
       "      <td>62246</td>\n",
       "      <td>{'type': 'Polygon', 'coordinates': [[[-89.4420...</td>\n",
       "      <td>UPDATE zipcode_donations(geometry) VALUES (\"</td>\n",
       "      <td>\") WHERE zipcode_5 = \"</td>\n",
       "      <td>\");</td>\n",
       "      <td>UPDATE zipcode_donations(geometry) VALUES (\"{'...</td>\n",
       "    </tr>\n",
       "  </tbody>\n",
       "</table>\n",
       "</div>"
      ],
      "text/plain": [
       "  zipcode                                           geometry  \\\n",
       "0   62359  {'type': 'Polygon', 'coordinates': [[[-91.1828...   \n",
       "1   62376  {'type': 'Polygon', 'coordinates': [[[-91.3774...   \n",
       "2   62312  {'type': 'Polygon', 'coordinates': [[[-90.9911...   \n",
       "3   62365  {'type': 'Polygon', 'coordinates': [[[-91.2421...   \n",
       "4   62246  {'type': 'Polygon', 'coordinates': [[[-89.4420...   \n",
       "\n",
       "                                         update                     mid  end  \\\n",
       "0  UPDATE zipcode_donations(geometry) VALUES (\"  \") WHERE zipcode_5 = \"  \");   \n",
       "1  UPDATE zipcode_donations(geometry) VALUES (\"  \") WHERE zipcode_5 = \"  \");   \n",
       "2  UPDATE zipcode_donations(geometry) VALUES (\"  \") WHERE zipcode_5 = \"  \");   \n",
       "3  UPDATE zipcode_donations(geometry) VALUES (\"  \") WHERE zipcode_5 = \"  \");   \n",
       "4  UPDATE zipcode_donations(geometry) VALUES (\"  \") WHERE zipcode_5 = \"  \");   \n",
       "\n",
       "                                           statement  \n",
       "0  UPDATE zipcode_donations(geometry) VALUES (\"{'...  \n",
       "1  UPDATE zipcode_donations(geometry) VALUES (\"{'...  \n",
       "2  UPDATE zipcode_donations(geometry) VALUES (\"{'...  \n",
       "3  UPDATE zipcode_donations(geometry) VALUES (\"{'...  \n",
       "4  UPDATE zipcode_donations(geometry) VALUES (\"{'...  "
      ]
     },
     "execution_count": 45,
     "metadata": {},
     "output_type": "execute_result"
    }
   ],
   "source": [
    "zip_geojson.head()"
   ]
  },
  {
   "cell_type": "code",
   "execution_count": 49,
   "metadata": {},
   "outputs": [],
   "source": [
    "zip_geojson['statement'] = zip_geojson['update'].map(str) + zip_geojson['geometry'] + zip_geojson['mid'] + zip_geojson['zipcode'] + zip_geojson['end']"
   ]
  },
  {
   "cell_type": "code",
   "execution_count": 51,
   "metadata": {
    "scrolled": true
   },
   "outputs": [],
   "source": [
    "zip_geojson['statement'].to_csv('zip_geojson.csv', index=False)"
   ]
  },
  {
   "cell_type": "code",
   "execution_count": 50,
   "metadata": {},
   "outputs": [
    {
     "data": {
      "text/plain": [
       "'UPDATE zipcode_donations(geometry) VALUES (\"{\\'type\\': \\'Polygon\\', \\'coordinates\\': [[[-91.182899, 40.026881], [-91.182577, 40.026761], [-91.182428, 40.026711], [-91.182125, 40.026608], [-91.181677, 40.02648], [-91.181419, 40.026419], [-91.18093, 40.026323], [-91.180498, 40.026255], [-91.180081, 40.026205], [-91.179637, 40.026169], [-91.179213, 40.026161], [-91.1788, 40.026162], [-91.178347, 40.026177], [-91.177816, 40.026225], [-91.177419, 40.026285], [-91.177051, 40.026348], [-91.176668, 40.026429], [-91.176692, 40.02387], [-91.176692, 40.023811], [-91.176698, 40.021465], [-91.176684, 40.021291], [-91.176632, 40.021046], [-91.176601, 40.020977], [-91.17656, 40.020918], [-91.176809, 40.020901], [-91.181786, 40.020983], [-91.183933, 40.021028], [-91.184539, 40.021028], [-91.185146, 40.021048], [-91.186161, 40.021048], [-91.187006, 40.021065], [-91.188558, 40.021081], [-91.189561, 40.021092], [-91.190867, 40.021127], [-91.192906, 40.021143], [-91.195194, 40.02118], [-91.195837, 40.021186], [-91.195938, 40.021205], [-91.19602, 40.021227], [-91.196098, 40.021198], [-91.196205, 40.021182], [-91.19714, 40.021194], [-91.198638, 40.021212], [-91.199963, 40.021235], [-91.20207, 40.021229], [-91.20325, 40.021228], [-91.203672, 40.021058], [-91.204097, 40.020892], [-91.204751, 40.020667], [-91.205621, 40.020415], [-91.209716, 40.019207], [-91.211208, 40.018776], [-91.212311, 40.018448], [-91.213525, 40.018083], [-91.215115, 40.01761], [-91.215436, 40.017515], [-91.216864, 40.017106], [-91.218559, 40.016613], [-91.218528, 40.0165], [-91.219713, 40.015903], [-91.223712, 40.014288], [-91.223724, 40.014438], [-91.223712, 40.014737], [-91.223719, 40.014854], [-91.22374, 40.014976], [-91.223767, 40.015041], [-91.223806, 40.015087], [-91.223739, 40.015107], [-91.223732, 40.015201], [-91.223731, 40.015787], [-91.22375, 40.016405], [-91.223782, 40.016548], [-91.223803, 40.016711], [-91.223805, 40.016836], [-91.223774, 40.016985], [-91.223782, 40.017226], [-91.223776, 40.017334], [-91.223748, 40.017432], [-91.223704, 40.017521], [-91.223683, 40.017618], [-91.223685, 40.017735], [-91.22371, 40.018118], [-91.223745, 40.01823], [-91.223765, 40.018575], [-91.22379, 40.019433], [-91.223837, 40.020565], [-91.223887, 40.021165], [-91.223889, 40.021508], [-91.223923, 40.021562], [-91.223934, 40.021838], [-91.223435, 40.033494], [-91.223308, 40.036756], [-91.223186, 40.047344], [-91.223201, 40.047611], [-91.223269, 40.047759], [-91.223207, 40.047765], [-91.223054, 40.04779], [-91.222968, 40.047873], [-91.222955, 40.049292], [-91.221448, 40.049295], [-91.204922, 40.049285], [-91.202708, 40.049284], [-91.195619, 40.049275], [-91.195618, 40.048968], [-91.19563, 40.048033], [-91.195671, 40.045868], [-91.195692, 40.045024], [-91.195707, 40.043059], [-91.195754, 40.039882], [-91.195772, 40.039441], [-91.195771, 40.039127], [-91.195772, 40.038993], [-91.195803, 40.035795], [-91.195442, 40.035798], [-91.193694, 40.035771], [-91.192651, 40.035747], [-91.186579, 40.035637], [-91.184871, 40.035597], [-91.183401, 40.035576], [-91.18266, 40.035561], [-91.180703, 40.035531], [-91.17831, 40.035483], [-91.176636, 40.035458], [-91.176645, 40.033093], [-91.17664, 40.031975], [-91.176666, 40.029181], [-91.176675, 40.028789], [-91.176672, 40.028705], [-91.177306, 40.02852], [-91.182777, 40.026919], [-91.182899, 40.026881]], [[-91.182899, 40.026881], [-91.183078, 40.026948], [-91.183895, 40.027199], [-91.184208, 40.027285], [-91.184535, 40.027364], [-91.184908, 40.027436], [-91.185281, 40.027492], [-91.185605, 40.027535], [-91.185982, 40.027566], [-91.186473, 40.02759], [-91.18686, 40.027595], [-91.187246, 40.02758], [-91.187975, 40.027517], [-91.188361, 40.027459], [-91.188724, 40.027393], [-91.189076, 40.027318], [-91.189458, 40.027223], [-91.189847, 40.027106], [-91.190206, 40.026979], [-91.190531, 40.026856], [-91.190878, 40.026716], [-91.1912, 40.026561], [-91.191838, 40.026201], [-91.19221, 40.02596], [-91.192493, 40.025755], [-91.193464, 40.02498], [-91.193824, 40.024716], [-91.194436, 40.024343], [-91.194698, 40.024203], [-91.195045, 40.024042], [-91.195471, 40.023859], [-91.195954, 40.023686], [-91.195981, 40.023445], [-91.196013, 40.023319], [-91.196045, 40.023137], [-91.196055, 40.023002], [-91.192161, 40.024143], [-91.188828, 40.025144], [-91.182899, 40.026881]]]}\") WHERE zipcode_5 = \"62359\");'"
      ]
     },
     "execution_count": 50,
     "metadata": {},
     "output_type": "execute_result"
    }
   ],
   "source": [
    "zip_geojson['statement'][0]"
   ]
  },
  {
   "cell_type": "code",
   "execution_count": null,
   "metadata": {},
   "outputs": [],
   "source": []
  }
 ],
 "metadata": {
  "kernelspec": {
   "display_name": "Python 3",
   "language": "python",
   "name": "python3"
  },
  "language_info": {
   "codemirror_mode": {
    "name": "ipython",
    "version": 3
   },
   "file_extension": ".py",
   "mimetype": "text/x-python",
   "name": "python",
   "nbconvert_exporter": "python",
   "pygments_lexer": "ipython3",
   "version": "3.6.7"
  }
 },
 "nbformat": 4,
 "nbformat_minor": 2
}
